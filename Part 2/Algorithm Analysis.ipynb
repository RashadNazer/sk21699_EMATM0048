{
 "cells": [
  {
   "cell_type": "markdown",
   "id": "38c00448",
   "metadata": {},
   "source": [
    "## Part 2: Algorithm Analysis"
   ]
  },
  {
   "cell_type": "code",
   "execution_count": 1,
   "id": "09bb1eef",
   "metadata": {},
   "outputs": [],
   "source": [
    "def sort(arr, length):\n",
    "    '''\n",
    "    This Function at first seperates odd numbers to left and right numbers to the right of array by swapping them. \n",
    "    Then it sorts them.\n",
    "\n",
    "    '''\n",
    "     \n",
    "    # Declaring two indexes, l=left and r=right\n",
    "    l, r = 0, length - 1\n",
    "     \n",
    "    # Variable to count number of odd numbers\n",
    "    c = 0\n",
    "     \n",
    "    # Run till left < right\n",
    "    while(l < r):\n",
    "         \n",
    "        # While for finding position of odd number from left of array and counting number of odd number\n",
    "        while(arr[l] % 2 == 1):\n",
    "            l += 1\n",
    "            c += 1\n",
    "             \n",
    "        # While for finding position of even number from the right of array  \n",
    "        while(arr[r] % 2 == 0 and l < r):\n",
    "            r -= 1\n",
    "             \n",
    "        # Swap the left(l) and right(r), which is even and odd numbers\n",
    "        if(l < r):\n",
    "            arr[l], arr[r] = arr[r], arr[l]\n",
    "             \n",
    "    # Slice the array into even and odd based on the count c\n",
    "    odd = arr[:c]\n",
    "    even = arr[c:]\n",
    "     \n",
    "    # Sort the odd and even array accordingly\n",
    "    odd.sort(reverse = True)\n",
    "    even.sort()\n",
    "     \n",
    "    # Extend the odd array with even array\n",
    "    odd.extend(even)\n",
    "     \n",
    "    return odd\n",
    "     \n",
    "\n"
   ]
  },
  {
   "cell_type": "code",
   "execution_count": null,
   "id": "8a481cb5",
   "metadata": {},
   "outputs": [],
   "source": [
    "# Getting input fom the user\n",
    "while True:\n",
    "    try:\n",
    "        \n",
    "        arr = list(map(int, input(\"Enter the values with spaces between them: \").split()))\n",
    "\n",
    "        length=len(arr)\n",
    "        result = sort(arr, length)\n",
    "        print(result)\n",
    "        break\n",
    "    except ValueError:\n",
    "        print(\"Please enter valid values\")\n",
    "        continue"
   ]
  },
  {
   "cell_type": "markdown",
   "id": "242b3ae7",
   "metadata": {},
   "source": [
    "###### Complexity"
   ]
  },
  {
   "cell_type": "markdown",
   "id": "4458cea2",
   "metadata": {},
   "source": [
    "The sorting algorithm has two steps. It first seperates odd and even numbers to right and left end of the array respectively. Then it performs the sorting of left and right parts accordingly. The complexity of the steps are:\n",
    "1. **Seperation of odd and even numbers**: The complexity is linerly proportional to the number of items in the array. This step takes O(n).\n",
    "2. **Sorting**: The sorting is done using sort(). The Python list sort() has been using the Timsort algorithm since version 2.3.[1]. This step has O(n Log n).\n",
    "\n",
    "Overall, the complexity of this sorting function is **O(n Log n)**."
   ]
  },
  {
   "cell_type": "markdown",
   "id": "9411fd3b",
   "metadata": {},
   "source": [
    "[1]Educative: Interactive Courses for Software Developers. 2021. What is the Python list sort()?. [online] Available at: <https://www.educative.io/edpresso/what-is-the-python-list-sort> [Accessed 28 December 2021]."
   ]
  }
 ],
 "metadata": {
  "kernelspec": {
   "display_name": "Python 3",
   "language": "python",
   "name": "python3"
  },
  "language_info": {
   "codemirror_mode": {
    "name": "ipython",
    "version": 3
   },
   "file_extension": ".py",
   "mimetype": "text/x-python",
   "name": "python",
   "nbconvert_exporter": "python",
   "pygments_lexer": "ipython3",
   "version": "3.8.8"
  }
 },
 "nbformat": 4,
 "nbformat_minor": 5
}
