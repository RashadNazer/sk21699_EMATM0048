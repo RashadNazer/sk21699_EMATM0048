{
 "cells": [
  {
   "cell_type": "markdown",
   "id": "93a94e7d",
   "metadata": {},
   "source": [
    "# Part 3: Data Analytics"
   ]
  },
  {
   "cell_type": "markdown",
   "id": "0732f8bf",
   "metadata": {},
   "source": [
    "## Step 1: Selecting real-world dataset"
   ]
  },
  {
   "cell_type": "markdown",
   "id": "ee6932fe",
   "metadata": {},
   "source": [
    "The dataset that will be used today are the stock market data of TESLA and some companies related to it. It is extracted using yfinance API. yfinance is an open source library developed by Ran Aroussi as a means to access the financial data available on Yahoo Finance[1]. Out of the many variables extracted, we will be focusing on Closing Price and Volume of shares traded. "
   ]
  },
  {
   "cell_type": "code",
   "execution_count": null,
   "id": "cdb7fdc2",
   "metadata": {},
   "outputs": [],
   "source": [
    "# Install the needed libraries"
   ]
  },
  {
   "cell_type": "code",
   "execution_count": null,
   "id": "c8b47e4e",
   "metadata": {},
   "outputs": [],
   "source": [
    "pip install yfinance"
   ]
  },
  {
   "cell_type": "code",
   "execution_count": null,
   "id": "75cc7d19",
   "metadata": {},
   "outputs": [],
   "source": [
    "pip install keras"
   ]
  },
  {
   "cell_type": "code",
   "execution_count": null,
   "id": "31a1ab4f",
   "metadata": {},
   "outputs": [],
   "source": [
    "pip install tensorflow"
   ]
  },
  {
   "cell_type": "code",
   "execution_count": null,
   "id": "3b669b42",
   "metadata": {},
   "outputs": [],
   "source": [
    "# Importing packages\n",
    "import yfinance as yf\n",
    "import matplotlib.pyplot as plt\n",
    "import numpy as np\n",
    "import pandas as pd\n",
    "import math\n",
    "from sklearn.preprocessing import MinMaxScaler\n",
    "from sklearn.linear_model import LinearRegression\n",
    "from keras.models import Sequential,load_model\n",
    "from keras.layers import Dense, LSTM, Dropout"
   ]
  },
  {
   "cell_type": "markdown",
   "id": "47a2dd6e",
   "metadata": {},
   "source": [
    "The stock market data is extracted by creating a ticker object for the particular stocks we need data for. The primary company I am interested is TESLA (TSLA). They are growing at a tremendous pace and is currently the biggest electric vehicle manufacturer in the world [2]. I am also interested to know the effect of TSLA share price have on its main battery supplier, Panasonic (PCRFY) [3]. I also intend to find the effect of TSLA share price on its competitor in the field of vehicle manufacturing (Ford(F) and General Motors(GM)) and energy (Royal Dutch Shell(RDS-B) and BP(BP)). We will be extracting data of 5 years, from 2016-11-30 to 2021-12-01."
   ]
  },
  {
   "cell_type": "code",
   "execution_count": null,
   "id": "7156e204",
   "metadata": {},
   "outputs": [],
   "source": [
    "# Setting the start and end date\n",
    "start_date = '2016-11-30'\n",
    "end_date = '2021-12-01'\n",
    "\n",
    "# Set the ticker\n",
    "ticker = 'TSLA','PCRFY','GM','F','RDS-B','BP'\n",
    "\n",
    "# Get the data\n",
    "data = yf.download(ticker, start_date, end_date,group_by='tickers')\n",
    "\n",
    "# Print data\n",
    "data"
   ]
  },
  {
   "cell_type": "code",
   "execution_count": null,
   "id": "49355c76",
   "metadata": {},
   "outputs": [],
   "source": [
    "# Saving the data into a csv file\n",
    "data.to_csv('data.csv')"
   ]
  },
  {
   "cell_type": "markdown",
   "id": "f44171aa",
   "metadata": {},
   "source": [
    "## Step 2: Data preparation and Cleaning"
   ]
  },
  {
   "cell_type": "markdown",
   "id": "571bd117",
   "metadata": {},
   "source": [
    "First step is we will be checking there are any null values in the dataset. We will also create 3 additional columns for the variables Percentage change of Price(%changeprice), Percentage change of volume(%changevolume) and Cumulative Return of the stock(CumulativeRet)."
   ]
  },
  {
   "cell_type": "code",
   "execution_count": null,
   "id": "fc771105",
   "metadata": {},
   "outputs": [],
   "source": [
    "# Loading the dataset into a data fram\n",
    "stock_data = pd.read_csv('data.csv', header=[0, 1], index_col=0)\n",
    "# Print dataset\n",
    "stock_data"
   ]
  },
  {
   "cell_type": "code",
   "execution_count": null,
   "id": "e2761481",
   "metadata": {},
   "outputs": [],
   "source": [
    "# Print the shape of dataset\n",
    "stock_data.shape"
   ]
  },
  {
   "cell_type": "code",
   "execution_count": null,
   "id": "12c9d137",
   "metadata": {},
   "outputs": [],
   "source": [
    "# Checking no. of null values\n",
    "stock_data.isnull().sum()"
   ]
  },
  {
   "cell_type": "code",
   "execution_count": null,
   "id": "904a80c4",
   "metadata": {},
   "outputs": [],
   "source": [
    "# Checking any numeric data is not string\n",
    "stock_data.dtypes.value_counts()"
   ]
  },
  {
   "cell_type": "markdown",
   "id": "c4cb7fa0",
   "metadata": {},
   "source": [
    "###### Pre-Processing Completed"
   ]
  },
  {
   "cell_type": "markdown",
   "id": "09ab723e",
   "metadata": {},
   "source": [
    "We can see that there is no Null value in the data, and also all the stock values are not strings either. Both of these are very good indicators that all values are present."
   ]
  },
  {
   "cell_type": "markdown",
   "id": "41ad12a9",
   "metadata": {},
   "source": [
    "###### Creation of additional columns"
   ]
  },
  {
   "cell_type": "code",
   "execution_count": null,
   "id": "de4f66c9",
   "metadata": {},
   "outputs": [],
   "source": [
    "# Calculating daily change of price\n",
    "tesladailychanges= stock_data[( 'TSLA', 'Adj Close')]\n",
    "teslapercentagedailychange= tesladailychanges.pct_change(periods=1)\n",
    "stock_data['TSLA','%changeprice'] = teslapercentagedailychange\n",
    "\n",
    "panasonicdailychanges= stock_data[( 'PCRFY', 'Adj Close')]\n",
    "panasonicpercentagedailychange= panasonicdailychanges.pct_change(periods=1)\n",
    "stock_data['PCRFY','%changeprice'] = panasonicpercentagedailychange\n",
    "\n",
    "GMdailychanges= stock_data[( 'GM', 'Adj Close')]\n",
    "GMpercentagedailychange= GMdailychanges.pct_change(periods=1)\n",
    "stock_data['GM','%changeprice'] = GMpercentagedailychange\n",
    "\n",
    "forddailychanges= stock_data[( 'F', 'Adj Close')]\n",
    "fordpercentagedailychange= forddailychanges.pct_change(periods=1)\n",
    "stock_data['F','%changeprice'] = fordpercentagedailychange\n",
    "\n",
    "shelldailychanges= stock_data[( 'RDS-B', 'Adj Close')]\n",
    "shellpercentagedailychange= shelldailychanges.pct_change(periods=1)\n",
    "stock_data['RDS-B','%changeprice'] = shellpercentagedailychange\n",
    "\n",
    "bpdailychanges= stock_data[( 'BP', 'Adj Close')]\n",
    "bppercentagedailychange= bpdailychanges.pct_change(periods=1)\n",
    "stock_data['BP','%changeprice'] = bppercentagedailychange\n",
    "\n",
    "stock_data = stock_data.sort_index(axis=1)"
   ]
  },
  {
   "cell_type": "code",
   "execution_count": null,
   "id": "14003717",
   "metadata": {},
   "outputs": [],
   "source": [
    "# Calculating daily change of volume traded\n",
    "teslavolumechanges= stock_data[( 'TSLA', 'Volume')]\n",
    "teslapercentagevolumechange= teslavolumechanges.pct_change(periods=1)\n",
    "stock_data['TSLA','%changevolume'] = teslapercentagevolumechange\n",
    "\n",
    "panasonicvolumechanges= stock_data[( 'PCRFY', 'Volume')]\n",
    "panasonicpercentagevolumechange= panasonicvolumechanges.pct_change(periods=1)\n",
    "stock_data['PCRFY','%changevolume'] = panasonicpercentagevolumechange\n",
    "\n",
    "GMvolumechanges= stock_data[( 'GM', 'Volume')]\n",
    "GMpercentagevolumechange= GMvolumechanges.pct_change(periods=1)\n",
    "stock_data['GM','%changevolume'] = GMpercentagevolumechange\n",
    "\n",
    "fordvolumechanges= stock_data[( 'F', 'Volume')]\n",
    "fordpercentagevolumechange= fordvolumechanges.pct_change(periods=1)\n",
    "stock_data['F','%changevolume'] = fordpercentagevolumechange\n",
    "\n",
    "shellvolumechanges= stock_data[( 'RDS-B', 'Volume')]\n",
    "shellpercentagevolumechange= shellvolumechanges.pct_change(periods=1)\n",
    "stock_data['RDS-B','%changevolume'] = shellpercentagevolumechange\n",
    "\n",
    "bpvolumechanges= stock_data[( 'BP', 'Volume')]\n",
    "bppercentagevolumechange= bpvolumechanges.pct_change(periods=1)\n",
    "stock_data['BP','%changevolume'] = bppercentagevolumechange\n",
    "\n",
    "stock_data = stock_data.sort_index(axis=1)"
   ]
  },
  {
   "cell_type": "code",
   "execution_count": null,
   "id": "5c1fecfb",
   "metadata": {},
   "outputs": [],
   "source": [
    "# Calculating Cumulative Return of stock\n",
    "stock_data['TSLA','CumulativeRet'] = (1+ stock_data[( 'TSLA', '%changeprice')]).cumprod()\n",
    "\n",
    "stock_data['PCRFY','CumulativeRet'] = (1+ stock_data[( 'PCRFY', '%changeprice')]).cumprod()\n",
    "\n",
    "stock_data['GM','CumulativeRet'] = (1+ stock_data[( 'GM', '%changeprice')]).cumprod()\n",
    "\n",
    "stock_data['F','CumulativeRet'] = (1+ stock_data[( 'F', '%changeprice')]).cumprod()\n",
    "\n",
    "stock_data['RDS-B','CumulativeRet'] = (1+ stock_data[( 'RDS-B', '%changeprice')]).cumprod()\n",
    "\n",
    "stock_data['BP','CumulativeRet'] = (1+ stock_data[( 'BP', '%changeprice')]).cumprod()\n",
    "\n",
    "stock_data = stock_data.sort_index(axis=1)"
   ]
  },
  {
   "cell_type": "code",
   "execution_count": null,
   "id": "5293eb6f",
   "metadata": {},
   "outputs": [],
   "source": [
    "# Printing stock data\n",
    "stock_data"
   ]
  },
  {
   "cell_type": "markdown",
   "id": "ec9d8f76",
   "metadata": {},
   "source": [
    "## Step 3: Exploratory Analysis"
   ]
  },
  {
   "cell_type": "markdown",
   "id": "971ccdb5",
   "metadata": {},
   "source": [
    "Let us look at the Adjusted Close price of Tesla and rest of the companies for the last 5 years."
   ]
  },
  {
   "cell_type": "code",
   "execution_count": null,
   "id": "00ce2aac",
   "metadata": {},
   "outputs": [],
   "source": [
    "# Plot the adjusted close price\n",
    "stock_data[('TSLA','Adj Close')].plot(figsize=(16, 10))\n",
    "\n",
    "# Define the label for the title of the figure\n",
    "plt.title(\"Adjusted Close Price of Tesla\", fontsize=16)\n",
    "\n",
    "# Define the labels for x-axis and y-axis\n",
    "plt.ylabel('Price', fontsize=14)\n",
    "plt.xlabel('Year', fontsize=14)\n",
    "\n",
    "# Plot the grid lines\n",
    "plt.grid(which=\"major\", color='k', linestyle='-.', linewidth=0.5)\n",
    "\n",
    "# Show the plot\n",
    "plt.show()"
   ]
  },
  {
   "cell_type": "code",
   "execution_count": null,
   "id": "c2d6f59e",
   "metadata": {},
   "outputs": [],
   "source": [
    "# Getting adjusted close price\n",
    "AdjClose=stock_data.iloc[:, stock_data.columns.get_level_values(1)=='Adj Close']\n",
    "\n",
    "AdjClose.plot(figsize=(16, 10))\n",
    "\n",
    "# Show the legend\n",
    "plt.legend()\n",
    "\n",
    "# Define the label for the title of the figure\n",
    "plt.title(\"Adjusted Close Price\", fontsize=16)\n",
    "\n",
    "# Define the labels for x-axis and y-axis\n",
    "plt.ylabel('Price', fontsize=14)\n",
    "plt.xlabel('Year', fontsize=14)\n",
    "\n",
    "# Plot the grid lines\n",
    "plt.grid(which=\"major\", color='k', linestyle='-.', linewidth=0.5)\n",
    "plt.show()"
   ]
  },
  {
   "cell_type": "markdown",
   "id": "72967b5d",
   "metadata": {},
   "source": [
    "From the above graph it can be seen that the Adjusted Close price of Tesla was approximately in the same range as rest of the companies that we are comparing until early 2020. Then it started to rise significantly whereas share price of the rest of the companies remained more or less same. "
   ]
  },
  {
   "cell_type": "markdown",
   "id": "33c534ec",
   "metadata": {},
   "source": [
    "### Question 1: Does change in stock prices affect the volume of stock traded of Tesla? What is the relation between volume and close price of Tesla? "
   ]
  },
  {
   "cell_type": "markdown",
   "id": "d50157e7",
   "metadata": {},
   "source": [
    "I intend to find that does the change in price of Tesla share have any effect on the volume of shares traded. It is generally expected that more trading of shares will occur when there is a significant change in price as people will rush to take advantage of the price swing."
   ]
  },
  {
   "cell_type": "code",
   "execution_count": null,
   "id": "b4282bc4",
   "metadata": {},
   "outputs": [],
   "source": [
    "# Plot the adjusted close price\n",
    "stock_data[('TSLA','%changevolume')].plot(figsize=(16, 10))\n",
    "\n",
    "# Define the label for the title of the figure\n",
    "plt.title(\"Daily % change of Volume of Tesla shares traded\", fontsize=16)\n",
    "\n",
    "# Define the labels for x-axis and y-axis\n",
    "plt.ylabel('% change of Volume', fontsize=14)\n",
    "plt.xlabel('Year', fontsize=14)\n",
    "plt.ticklabel_format(useOffset=False, style='plain',axis='y')\n",
    "# Plot the grid lines\n",
    "plt.grid(which=\"major\", color='k', linestyle='-.', linewidth=0.5)\n",
    "\n",
    "# Show the plot\n",
    "plt.show()\n",
    "\n",
    "\n",
    "stock_data[('TSLA','%changeprice')].plot(figsize=(17,10))\n",
    "plt.suptitle('Daily % change of Tesla. stock price', fontsize=16, color='black')\n",
    "plt.ylabel('% change of share price', fontsize=14)\n",
    "plt.xlabel('Year', fontsize=14)\n",
    "plt.grid(which=\"major\", color='k', linestyle='-.', linewidth=0.5)\n",
    "\n",
    "plt.show() "
   ]
  },
  {
   "cell_type": "markdown",
   "id": "a92f489f",
   "metadata": {},
   "source": [
    "The y-axis of both graphs represents the percentage change in the value. This is needed because the daily volume of shares traded will be in the range of hundreds of thousands, and the daily price movement is normally a few dollars. We may compare the two datasets on a similar scale by converting to percentage change. There is no visible association between the number of shares exchanged and the daily price change, as seen in the above graph."
   ]
  },
  {
   "cell_type": "code",
   "execution_count": null,
   "id": "3ef3cbae",
   "metadata": {},
   "outputs": [],
   "source": [
    "# Scatter plot between the values\n",
    "plt.figure(figsize=(16,10))\n",
    "plt.scatter(stock_data[('TSLA','%changevolume')],stock_data[('TSLA','%changeprice')])\n",
    "plt.suptitle('Scatter plot between %change in price and volume traded of Tesla stock', fontsize=16, color='black')\n",
    "plt.ylabel('% change in price of stock', fontsize=14)\n",
    "plt.xlabel('% change in Volume Traded', fontsize=14)\n",
    "plt.grid(which=\"major\", color='k', linestyle='-.', linewidth=0.5)\n",
    "plt.ticklabel_format(useOffset=False, style='plain')"
   ]
  },
  {
   "cell_type": "markdown",
   "id": "ff112002",
   "metadata": {},
   "source": [
    "Just from the above scatter plot, it doesn't look like there is much relationship between share price and volume traded of Tesla stock. "
   ]
  },
  {
   "cell_type": "code",
   "execution_count": null,
   "id": "31b3ad4c",
   "metadata": {},
   "outputs": [],
   "source": [
    "# Linear regression model\n",
    "a= stock_data[('TSLA','%changevolume')]\n",
    "b= stock_data[('TSLA','%changeprice')]\n",
    "x=np.array(a[1:1258]).reshape((-1,1))\n",
    "y=b[1:1258]\n",
    "model = LinearRegression()\n",
    "model.fit(x, y)\n",
    "r_sq = model.score(x, y)\n",
    "print('coefficient of determination:', r_sq)"
   ]
  },
  {
   "cell_type": "markdown",
   "id": "48aae127",
   "metadata": {},
   "source": [
    "The very low value of coefficient of determination tells that there is no relation between the variables. With all the tests done we have reached the same conclusion that there is no relation between change in share price and volume traded of Tesla, which is quite surprising as we would expect that there would be more trading activity when there is a drastic change in price as people will try to benefit from the said change in price."
   ]
  },
  {
   "cell_type": "markdown",
   "id": "0d15900f",
   "metadata": {},
   "source": [
    "### Question 2: Does change in price of Tesla stock has any effect on its main battery supplier and competitors? What is the volatility and correlation between these stocks? "
   ]
  },
  {
   "cell_type": "markdown",
   "id": "fc59520f",
   "metadata": {},
   "source": [
    "Market performance of one company can have some influence on the rest of the market. I intend to find the effect of Tesla share price have on its main battery supplier, Panasonic i.e., will increase in Tesla share price can have positive impact on share price of Panasonic. Also, I will look into the effect of Tesla share price on its competitors. The competitors that we will be looking in the vehicle manufacturing industry are Ford and GM. They are the biggest gasoline vehicle producer in the home country of Tesla. I also plan to find any relation between share price of petroleum companies (Royal Dutch Shell and BP) and Tesla. Since Tesla is an electric vehicle manufacture, better performance of the company may have negative impact on the share price of petroleum companies. I aim to find that this is the case."
   ]
  },
  {
   "cell_type": "code",
   "execution_count": null,
   "id": "2da0b50f",
   "metadata": {},
   "outputs": [],
   "source": [
    "# Getting the percentage change of price\n",
    "percentagechange=stock_data.iloc[:, stock_data.columns.get_level_values(1)=='%changeprice']\n",
    "\n",
    "percentagechange.plot(subplots = True,figsize=(16, 16))\n",
    "\n",
    "# Show the legend\n",
    "plt.legend()\n",
    "\n",
    "# Define the label for the title of the figure\n",
    "plt.suptitle(\"Daily Percentage change of stock price of all the companies\", fontsize=16)\n",
    "# Define the labels for x-axis and y-axis\n",
    "plt.ylabel('% change in Price', fontsize=14)\n",
    "plt.xlabel('Year', fontsize=14)\n",
    "\n",
    "# Plot the grid lines\n",
    "plt.grid(which=\"major\", color='k', linestyle='-.', linewidth=0.5)\n",
    "plt.show()"
   ]
  },
  {
   "cell_type": "markdown",
   "id": "98450c23",
   "metadata": {},
   "source": [
    "From the above graph it can be seen that percentage change of share price of stock is not that much related to each other except for early 2020. There is huge spike in graph for each company. I think this can be attributed to the COVID-19 lockdown and its effect on the markets. "
   ]
  },
  {
   "cell_type": "code",
   "execution_count": null,
   "id": "a31bbcf8",
   "metadata": {},
   "outputs": [],
   "source": [
    "#Plotting scatter matrix\n",
    "from pandas.plotting import scatter_matrix\n",
    "comparison=pd.concat([stock_data['TSLA','Open'],stock_data['PCRFY','Open'],stock_data['GM','Open'],stock_data['F','Open'],stock_data['RDS-B','Open'],stock_data['BP','Open']],axis=1)\n",
    "comparison.columns=['Tesla','Panasonic','GM','Ford','Shell','BP']\n",
    "scatter_matrix(comparison,figsize=(16,16),hist_kwds={'bins':50})"
   ]
  },
  {
   "cell_type": "markdown",
   "id": "68dc6375",
   "metadata": {},
   "source": [
    "From the above scatter matrix, it is clear that share price of Tesla have almost strong non-linear relationship with rest of the companies. The only strong linear relationship that can be found is between the share price of Ford and GM and also with Shell and BP."
   ]
  },
  {
   "cell_type": "code",
   "execution_count": null,
   "id": "bfc3ca29",
   "metadata": {},
   "outputs": [],
   "source": [
    "# Checking the volatility of the stock\n",
    "stock_data['TSLA','%changeprice'].hist(bins=50,label='Tesla',alpha=0.5,figsize=(16,16))\n",
    "stock_data['PCRFY','%changeprice'].hist(bins=50,label='Panasonic',alpha=0.5)\n",
    "stock_data['GM','%changeprice'].hist(bins=50,label='GM',alpha=0.5)\n",
    "stock_data['F','%changeprice'].hist(bins=50,label='Ford',alpha=0.5)\n",
    "stock_data['RDS-B','%changeprice'].hist(bins=50,label='Shell',alpha=0.5)\n",
    "stock_data['BP','%changeprice'].hist(bins=50,label='BP',alpha=0.5)\n",
    "plt.legend()"
   ]
  },
  {
   "cell_type": "markdown",
   "id": "7cef3fc1",
   "metadata": {},
   "source": [
    "The curve corresponding to Tesla is more wider than rest. Hence share price of Tesla is more volatile than rest of the companies."
   ]
  },
  {
   "cell_type": "code",
   "execution_count": null,
   "id": "7c92ae5d",
   "metadata": {},
   "outputs": [],
   "source": [
    "# getting kde curve\n",
    "stock_data['TSLA','%changeprice'].plot(kind='kde',label='Tesla',alpha=0.5,figsize=(16,12))\n",
    "stock_data['PCRFY','%changeprice'].plot(kind='kde',label='Panasonic',alpha=0.5)\n",
    "stock_data['GM','%changeprice'].plot(kind='kde',label='GM',alpha=0.5)\n",
    "stock_data['F','%changeprice'].plot(kind='kde',label='Ford',alpha=0.5)\n",
    "stock_data['RDS-B','%changeprice'].plot(kind='kde',label='Shell',alpha=0.5)\n",
    "stock_data['BP','%changeprice'].plot(kind='kde',label='BP',alpha=0.5)\n",
    "plt.grid(which=\"major\", color='k', linestyle='-.', linewidth=0.5)\n",
    "plt.legend()"
   ]
  },
  {
   "cell_type": "markdown",
   "id": "be937602",
   "metadata": {},
   "source": [
    "From the above graph, it can be seen that Tesla has wider curve. Hence, we can definitely confirm that Tesla stock is most volatile. "
   ]
  },
  {
   "cell_type": "code",
   "execution_count": null,
   "id": "061c6646",
   "metadata": {},
   "outputs": [],
   "source": [
    "# Getting boxplots\n",
    "returncomparison=pd.concat([stock_data['TSLA','%changeprice'],stock_data['PCRFY','%changeprice'],stock_data['GM','%changeprice'],stock_data['F','%changeprice'],stock_data['RDS-B','%changeprice'],stock_data['BP','%changeprice']],axis=1)\n",
    "returncomparison.columns=['Tesla','Panasonic','GM','Ford','Shell','BP']\n",
    "returncomparison.plot(kind='box',figsize=(16,16))"
   ]
  },
  {
   "cell_type": "markdown",
   "id": "01281f60",
   "metadata": {},
   "source": [
    "From above box plot, it is clear that Percentage change in share price of Tesla is more spread out than rest of the companies."
   ]
  },
  {
   "cell_type": "code",
   "execution_count": null,
   "id": "1ab525bf",
   "metadata": {},
   "outputs": [],
   "source": [
    "# Finding the correlation between the daily returns of the company\n",
    "scatter_matrix(returncomparison,figsize=(16,16),hist_kwds={'bins':50},alpha=0.25)"
   ]
  },
  {
   "cell_type": "markdown",
   "id": "011fe55e",
   "metadata": {},
   "source": [
    "From the scatter matrix, it can be seen that there is no correlation between the daily returns of Tesla and rest of the companies. Just like before the only relation that can be deduced is the positive relation between the daily returns of Ford and GM and also Shell and BP."
   ]
  },
  {
   "cell_type": "markdown",
   "id": "7738d474",
   "metadata": {},
   "source": [
    "### Question 3: What is the cumulative return of each company? Is it possible to predict future stock price of Tesla even though it is highly volatile?"
   ]
  },
  {
   "cell_type": "markdown",
   "id": "5d8fca90",
   "metadata": {},
   "source": [
    "I intend to find the cumulative return for the period of 5 years i.e., which company provides highest return. I also aim to find that whether it is possible to build a prediction model using past data of Tesla. From the above graphs it is clear that Tesla stock is highly volatile. So, my objective is to find that is it possible to build sufficiently good prediction model using machine learning with the past volatile data."
   ]
  },
  {
   "cell_type": "code",
   "execution_count": null,
   "id": "7bc5aabc",
   "metadata": {},
   "outputs": [],
   "source": [
    "# Getting the cumulative return\n",
    "stock_data['TSLA','CumulativeRet'].plot(label='Tesla',figsize=(16,10))\n",
    "stock_data['GM','CumulativeRet'].plot(label='GM',figsize=(16,10))\n",
    "stock_data['F','CumulativeRet'].plot(label='Ford',figsize=(16,10))\n",
    "stock_data['PCRFY','CumulativeRet'].plot(label='Panasonic',figsize=(16,10))\n",
    "stock_data['RDS-B','CumulativeRet'].plot(label='Shell',figsize=(16,10))\n",
    "stock_data['BP','CumulativeRet'].plot(label='BP',figsize=(16,10))\n",
    "plt.title(\"Cumulative Return vs Time\")\n",
    "plt.grid(which=\"major\", color='k', linestyle='-.', linewidth=0.5)\n",
    "plt.legend()"
   ]
  },
  {
   "cell_type": "markdown",
   "id": "e58737c7",
   "metadata": {},
   "source": [
    "From the above graph, it is clear that Tesla provides with the highest return. 1 pound invested at the end 2016 would have grown to around 30 pounds at the end of 2021. Whereas the rest of the companies under consideration would just have increased maximum by 2.5x."
   ]
  },
  {
   "cell_type": "markdown",
   "id": "985f846b",
   "metadata": {},
   "source": [
    "###### Building prediction model with LSTM[4]"
   ]
  },
  {
   "cell_type": "code",
   "execution_count": null,
   "id": "3a24f4c2",
   "metadata": {},
   "outputs": [],
   "source": [
    "# Dropping Null values\n",
    "data=stock_data.dropna()"
   ]
  },
  {
   "cell_type": "code",
   "execution_count": null,
   "id": "f802e799",
   "metadata": {},
   "outputs": [],
   "source": [
    "#Create a new dataframe with only the TSLA data\n",
    "\n",
    "tesla_data = stock_data['TSLA']\n",
    "\n",
    "#Create a new dataframe with only the 'Close' column\n",
    "close_data = tesla_data.filter(['Close'])"
   ]
  },
  {
   "cell_type": "code",
   "execution_count": null,
   "id": "6065a290",
   "metadata": {},
   "outputs": [],
   "source": [
    "#Convert the dataframe to a numpy\n",
    "dataset = close_data.values\n",
    "#Get the number of rows to train model\n",
    "training_data_len = math.ceil(len(dataset)* 0.8)\n",
    "training_data_len"
   ]
  },
  {
   "cell_type": "code",
   "execution_count": null,
   "id": "9fdc6171",
   "metadata": {},
   "outputs": [],
   "source": [
    "#Scaling the data\n",
    "scaler = MinMaxScaler(feature_range=(0,1))\n",
    "scaled_data = scaler.fit_transform(dataset)\n",
    "\n",
    "#Create the training data set\n",
    "#Create the scaled training data set\n",
    "train_data = scaled_data[0:training_data_len,:]\n",
    "#Split the data into x_train and y_train data sets\n",
    "x_train = []\n",
    "y_train = []\n",
    "\n",
    "for i in range(60,len(train_data)):\n",
    "    x_train.append(train_data[i-60:i,0])\n",
    "    y_train.append(train_data[i,0])"
   ]
  },
  {
   "cell_type": "code",
   "execution_count": null,
   "id": "0eea5433",
   "metadata": {},
   "outputs": [],
   "source": [
    "#Convert the x_train and y_train to numpy arrays\n",
    "x_train, y_train = np.array(x_train),np.array(y_train)\n",
    "x_train.shape\n",
    "\n",
    "#Reshape the data\n",
    "x_train = np.reshape(x_train, (x_train.shape[0], x_train.shape[1], 1))\n",
    "x_train.shape"
   ]
  },
  {
   "cell_type": "code",
   "execution_count": null,
   "id": "397c0523",
   "metadata": {},
   "outputs": [],
   "source": [
    "# Building LSTM model\n",
    "model = Sequential()\n",
    "model.add(LSTM(128, return_sequences=True, input_shape=(x_train.shape[1], 1)))\n",
    "\n",
    "model.add(LSTM(units=64,return_sequences=False))\n",
    "\n",
    "\n",
    "model.add(Dense(25))\n",
    "model.add(Dense(1))"
   ]
  },
  {
   "cell_type": "code",
   "execution_count": null,
   "id": "7d8ff102",
   "metadata": {},
   "outputs": [],
   "source": [
    "#Compile the model\n",
    "model.compile(loss='mean_squared_error', optimizer='adam')\n",
    "#Train the model\n",
    "model.fit(x_train, y_train, epochs=10, batch_size=10)"
   ]
  },
  {
   "cell_type": "code",
   "execution_count": null,
   "id": "26fcd0fe",
   "metadata": {},
   "outputs": [],
   "source": [
    "#Create testing dataset\n",
    "#Create a new array containing scaled values from index 947 to 1259\n",
    "test_data = scaled_data[training_data_len-60:,:]\n",
    "#Create the data sets x_test and y_test\n",
    "x_test =[]\n",
    "y_test = dataset[training_data_len:,:]\n",
    "for i in range(60, len(test_data)):\n",
    "    x_test.append(test_data[i-60:i,0])"
   ]
  },
  {
   "cell_type": "code",
   "execution_count": null,
   "id": "cf54c7af",
   "metadata": {},
   "outputs": [],
   "source": [
    "#Convert the data to a numpy\n",
    "x_test = np.array(x_test)\n",
    "\n",
    "#Reshape the data\n",
    "x_test = np.reshape(x_test, (x_test.shape[0], x_test.shape[1], 1))"
   ]
  },
  {
   "cell_type": "code",
   "execution_count": null,
   "id": "82ea7699",
   "metadata": {},
   "outputs": [],
   "source": [
    "#Model's predicted price values\n",
    "predictions = model.predict(x_test)\n",
    "predictions = scaler.inverse_transform(predictions)"
   ]
  },
  {
   "cell_type": "code",
   "execution_count": null,
   "id": "4cd88fa1",
   "metadata": {},
   "outputs": [],
   "source": [
    "#Get the Root Mean Squared Error(RMSE)\n",
    "rmse = np.sqrt(np.mean(predictions - y_test)**2)\n",
    "rmse"
   ]
  },
  {
   "cell_type": "markdown",
   "id": "2f8b2a3f",
   "metadata": {},
   "source": [
    "Sometimes a large value of RMSE will be generated, which can effect the prediction capability of model. Retraining the model can solve this problem."
   ]
  },
  {
   "cell_type": "code",
   "execution_count": null,
   "id": "241dc491",
   "metadata": {},
   "outputs": [],
   "source": [
    "#Plot the data\n",
    "train = close_data[:training_data_len]\n",
    "valid = close_data[training_data_len:]\n",
    "valid['Predictions'] = predictions"
   ]
  },
  {
   "cell_type": "code",
   "execution_count": null,
   "id": "176ae0ed",
   "metadata": {},
   "outputs": [],
   "source": [
    "#Visualize the data\n",
    "plt.figure(figsize=(16,10))\n",
    "plt.title('Model')\n",
    "plt.xlabel('Date',fontsize=14)\n",
    "plt.ylabel('Close Price',fontsize=14)\n",
    "plt.plot(train['Close'])\n",
    "plt.plot(valid[['Close','Predictions']])\n",
    "plt.legend(['Train','Val','Predictions'], loc='lower right')\n",
    "plt.show()"
   ]
  },
  {
   "cell_type": "markdown",
   "id": "3b635bbc",
   "metadata": {},
   "source": [
    "From above graph, it can be seen that stock price can sometimes be calculated with good accuracy."
   ]
  },
  {
   "cell_type": "code",
   "execution_count": null,
   "id": "6a382c77",
   "metadata": {},
   "outputs": [],
   "source": [
    "#show the valid and predicted prices\n",
    "valid"
   ]
  },
  {
   "cell_type": "markdown",
   "id": "27ae68b0",
   "metadata": {},
   "source": [
    "###### Predicting next day price"
   ]
  },
  {
   "cell_type": "code",
   "execution_count": null,
   "id": "c81372ec",
   "metadata": {},
   "outputs": [],
   "source": [
    "#Get the last 60 days closing price values \n",
    "last_60_days = close_data[-60:].values\n",
    "#Scale the data to values between 0 and 1\n",
    "last_60_days_scaled = scaler.transform(last_60_days)\n",
    "#Create empty list\n",
    "X_test = []\n",
    "#Append the list\n",
    "X_test.append(last_60_days_scaled)\n",
    "#Convert the X_test set to numpy array\n",
    "X_test = np.array(X_test)\n",
    "#Reshape the data\n",
    "X_test = np.reshape(X_test, (X_test.shape[0], X_test.shape[1],1))\n",
    "#Get the predicted scaled price\n",
    "predicted_price = model.predict(X_test)\n",
    "predicted_price = scaler.inverse_transform(predicted_price)\n",
    "print(predicted_price)"
   ]
  },
  {
   "cell_type": "code",
   "execution_count": null,
   "id": "bc6ab315",
   "metadata": {},
   "outputs": [],
   "source": [
    "upper_band= predicted_price + rmse\n",
    "lower_band= predicted_price - rmse\n",
    "\n",
    "actual_value = yf.download('TSLA', start_date='2021-11-30', end_date='2021-12-10')\n",
    "desired_value =actual_value.loc[pd.DatetimeIndex(['2021-12-01']), 'Close'].values[0]\n",
    "desired_value "
   ]
  },
  {
   "cell_type": "code",
   "execution_count": null,
   "id": "f6d5d8d9",
   "metadata": {},
   "outputs": [],
   "source": [
    "if desired_value>lower_band and desired_value<upper_band:\n",
    "    print(\"The predicted value is within the standard deviation of errors.\")\n",
    "else:\n",
    "    print(\"The predicted value is outside the standard deviation of errors. You may need to retrain the model.\")"
   ]
  },
  {
   "cell_type": "markdown",
   "id": "008f854f",
   "metadata": {},
   "source": [
    "It is observed that stock prices can be predicted with very good accuracy. But sometimes the trained model generates large RMSE value and results in poor accuracy. Retraining the model again can solve this issue."
   ]
  },
  {
   "cell_type": "markdown",
   "id": "f09924a2",
   "metadata": {},
   "source": [
    "## Step 4: Summary"
   ]
  },
  {
   "cell_type": "markdown",
   "id": "8f814c9b",
   "metadata": {},
   "source": [
    "* The Adjusted Close Price of Tesla was in the same range as the rest of the companies we compared till early 2020. After that it increased significantly whereas the rest of the Adjusted Close price of rest of companies remained in the same range.\n",
    "* We found that there is no relation between change in price of Tesla share and the volume of shares traded, which is opposite of what was initially assumed.\n",
    "* It was learned that share price of Tesla has almost strong non-linear relationship with rest of the companies. The only strong linear relationship that can be found is between the share price of Ford and GM and also with Shell and BP.\n",
    "* The share price of Tesla is the most volatile among the companies we analyzed.\n",
    "* There is no correlation between the daily returns of Tesla and rest of the companies.\n",
    "* Tesla provided the highest return among the companies investigated. The ROI was calculated to be around 3000% for the analyzed period.\n",
    "* Building a predictor model is possible, even though the data is very volatile. If the prediction model is not accurate enough, retraining the model can lead to better results."
   ]
  },
  {
   "cell_type": "markdown",
   "id": "46956540",
   "metadata": {},
   "source": [
    "#### References"
   ]
  },
  {
   "cell_type": "markdown",
   "id": "860d92cd",
   "metadata": {},
   "source": [
    "[1]: PyPI. 2021. yfinance. [online] Available at: <https://pypi.org/project/yfinance/> [Accessed 18 December 2021].\\\n",
    "[2]: Medium. 2022. October 29: Largest electric vehicle manufacturers. [online] Available at: <https://medium.com/fact-of-the-day-1/october-29-largest-electric-vehicle-manufacturers-cc8b9851bf78> [Accessed 19 December 2021].\\\n",
    "[3]: InsideEVs. 2022. Check Out Tesla's Influence On The Top 3 Battery Suppliers Globally In 2020. [online] Available at: <https://insideevs.com/news/487179/tesla-influence-top-battery-suppliers-2020/> [Accessed 19 December 2021].\\\n",
    "[4]: Brownlee, J., 2022. Time Series Prediction with LSTM Recurrent Neural Networks in Python with Keras. [online] Machine Learning Mastery. Available at: <https://machinelearningmastery.com/time-series-prediction-lstm-recurrent-neural-networks-python-keras/> [Accessed 26 December 2021].\\"
   ]
  }
 ],
 "metadata": {
  "kernelspec": {
   "display_name": "Python 3",
   "language": "python",
   "name": "python3"
  },
  "language_info": {
   "codemirror_mode": {
    "name": "ipython",
    "version": 3
   },
   "file_extension": ".py",
   "mimetype": "text/x-python",
   "name": "python",
   "nbconvert_exporter": "python",
   "pygments_lexer": "ipython3",
   "version": "3.8.8"
  }
 },
 "nbformat": 4,
 "nbformat_minor": 5
}
