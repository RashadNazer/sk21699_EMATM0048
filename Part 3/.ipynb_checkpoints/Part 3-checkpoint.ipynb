{
 "cells": [
  {
   "cell_type": "markdown",
   "id": "1e229df6",
   "metadata": {},
   "source": [
    "# Part 3: Data Analytics"
   ]
  },
  {
   "cell_type": "markdown",
   "id": "bae9bd86",
   "metadata": {},
   "source": [
    "## Step 1: Selecting real-world dataset"
   ]
  },
  {
   "cell_type": "markdown",
   "id": "a2a6454a",
   "metadata": {},
   "source": [
    "The dataset that will be used today are the stock market data of TESLA and some companies related to it. It is extracted using yfinance API. yfinance is an open source library developed by Ran Aroussi as a means to access the financial data available on Yahoo Finance[1]. Out of the many variables extracted, we will be focusing on Closing Price and Volume of shares traded. "
   ]
  },
  {
   "cell_type": "code",
   "execution_count": null,
   "id": "53026427",
   "metadata": {},
   "outputs": [],
   "source": [
    "#installing needed libraries\n",
    "pip install yfinance"
   ]
  },
  {
   "cell_type": "code",
   "execution_count": null,
   "id": "9d03a2da",
   "metadata": {},
   "outputs": [],
   "source": [
    "pip install keras"
   ]
  },
  {
   "cell_type": "code",
   "execution_count": null,
   "id": "40dba102",
   "metadata": {},
   "outputs": [],
   "source": [
    "pip install tensorflow"
   ]
  },
  {
   "cell_type": "code",
   "execution_count": null,
   "id": "89510d70",
   "metadata": {},
   "outputs": [],
   "source": [
    "# Importing packages\n",
    "import yfinance as yf\n",
    "import matplotlib.pyplot as plt\n",
    "import numpy as np\n",
    "import pandas as pd\n",
    "import math\n",
    "from sklearn.preprocessing import MinMaxScaler\n",
    "from sklearn.linear_model import LinearRegression\n",
    "from keras.models import Sequential,load_model\n",
    "from keras.layers import Dense, LSTM, Dropout"
   ]
  },
  {
   "cell_type": "markdown",
   "id": "7fd8eda4",
   "metadata": {},
   "source": [
    "The stock market data is extracted by creating a ticker object for the particular stocks we need data for. The primary company I am interested is TESLA (TSLA). They are growing at a tremendous pace and is currently the biggest electric vehicle manufacturer in the world [2]. I am also interested to know the effect of TSLA share price have on its main battery supplier, Panasonic (PCRFY) [3]. I also intend to find the effect of TSLA share price on its competitor in the field of vehicle manufacturing (Ford(F) and General Motors(GM)) and energy (Royal Dutch Shell(RDS-B) and BP(BP)). We will be extracting data of last 5 years."
   ]
  },
  {
   "cell_type": "code",
   "execution_count": null,
   "id": "3a46b8e4",
   "metadata": {},
   "outputs": [],
   "source": [
    "# Setting the start and end date\n",
    "start_date = '2016-11-30'\n",
    "end_date = '2021-12-01'\n",
    "\n",
    "# Set the ticker\n",
    "ticker = 'TSLA','PCRFY','GM','F','RDS-B','BP'\n",
    "\n",
    "# Get the data\n",
    "data = yf.download(ticker, start_date, end_date,group_by='tickers')\n",
    "\n",
    "# Print data\n",
    "data"
   ]
  },
  {
   "cell_type": "code",
   "execution_count": null,
   "id": "d2072aae",
   "metadata": {},
   "outputs": [],
   "source": [
    "# Saving the data into a csv file\n",
    "data.to_csv('data.csv')"
   ]
  },
  {
   "cell_type": "markdown",
   "id": "60045d96",
   "metadata": {},
   "source": [
    "## Step 2: Data preparation and Cleaning"
   ]
  },
  {
   "cell_type": "markdown",
   "id": "08400f0b",
   "metadata": {},
   "source": [
    "First step is we will be checking there are any null values in the dataset. We will also create 3 additional columns for the variables Percentage change of Price(%changeprice), Percentage change of volume(%changevolume) and Cumulative Return of the stock(CumulativeRet)."
   ]
  },
  {
   "cell_type": "code",
   "execution_count": null,
   "id": "aa91883c",
   "metadata": {},
   "outputs": [],
   "source": [
    "# Loading the dataset into a data fram\n",
    "stock_data = pd.read_csv('data.csv', header=[0, 1], index_col=0)\n",
    "# Print dataset\n",
    "stock_data"
   ]
  },
  {
   "cell_type": "code",
   "execution_count": null,
   "id": "8b00c394",
   "metadata": {},
   "outputs": [],
   "source": [
    "# Print the shape of dataset\n",
    "stock_data.shape"
   ]
  },
  {
   "cell_type": "code",
   "execution_count": null,
   "id": "59db7f80",
   "metadata": {},
   "outputs": [],
   "source": [
    "# Checking no. of null values\n",
    "stock_data.isnull().sum()"
   ]
  },
  {
   "cell_type": "code",
   "execution_count": null,
   "id": "2a88aca3",
   "metadata": {},
   "outputs": [],
   "source": [
    "# Checking any numeric data is not string\n",
    "stock_data.dtypes.value_counts()"
   ]
  },
  {
   "cell_type": "markdown",
   "id": "820acc3a",
   "metadata": {},
   "source": [
    "###### Pre-Processing Completed"
   ]
  },
  {
   "cell_type": "markdown",
   "id": "e04b7c84",
   "metadata": {},
   "source": [
    "We can see that there is no Null value in the data, and also all the stock values are not strings either. Both of these are very good indicators that all values are present."
   ]
  },
  {
   "cell_type": "markdown",
   "id": "048b0646",
   "metadata": {},
   "source": [
    "###### Creation of additional columns"
   ]
  },
  {
   "cell_type": "code",
   "execution_count": null,
   "id": "0ba5ab83",
   "metadata": {},
   "outputs": [],
   "source": [
    "# Calculating daily change of price\n",
    "tesladailychanges= stock_data[( 'TSLA', 'Adj Close')]\n",
    "teslapercentagedailychange= tesladailychanges.pct_change(periods=1)\n",
    "stock_data['TSLA','%changeprice'] = teslapercentagedailychange\n",
    "\n",
    "panasonicdailychanges= stock_data[( 'PCRFY', 'Adj Close')]\n",
    "panasonicpercentagedailychange= panasonicdailychanges.pct_change(periods=1)\n",
    "stock_data['PCRFY','%changeprice'] = panasonicpercentagedailychange\n",
    "\n",
    "GMdailychanges= stock_data[( 'GM', 'Adj Close')]\n",
    "GMpercentagedailychange= GMdailychanges.pct_change(periods=1)\n",
    "stock_data['GM','%changeprice'] = GMpercentagedailychange\n",
    "\n",
    "forddailychanges= stock_data[( 'F', 'Adj Close')]\n",
    "fordpercentagedailychange= forddailychanges.pct_change(periods=1)\n",
    "stock_data['F','%changeprice'] = fordpercentagedailychange\n",
    "\n",
    "shelldailychanges= stock_data[( 'RDS-B', 'Adj Close')]\n",
    "shellpercentagedailychange= shelldailychanges.pct_change(periods=1)\n",
    "stock_data['RDS-B','%changeprice'] = shellpercentagedailychange\n",
    "\n",
    "bpdailychanges= stock_data[( 'BP', 'Adj Close')]\n",
    "bppercentagedailychange= bpdailychanges.pct_change(periods=1)\n",
    "stock_data['BP','%changeprice'] = bppercentagedailychange\n",
    "\n",
    "stock_data = stock_data.sort_index(axis=1)"
   ]
  },
  {
   "cell_type": "code",
   "execution_count": null,
   "id": "9d65152a",
   "metadata": {},
   "outputs": [],
   "source": [
    "# Calculating daily change of volume traded\n",
    "teslavolumechanges= stock_data[( 'TSLA', 'Volume')]\n",
    "teslapercentagevolumechange= teslavolumechanges.pct_change(periods=1)\n",
    "stock_data['TSLA','%changevolume'] = teslapercentagevolumechange\n",
    "\n",
    "panasonicvolumechanges= stock_data[( 'PCRFY', 'Volume')]\n",
    "panasonicpercentagevolumechange= panasonicvolumechanges.pct_change(periods=1)\n",
    "stock_data['PCRFY','%changevolume'] = panasonicpercentagevolumechange\n",
    "\n",
    "GMvolumechanges= stock_data[( 'GM', 'Volume')]\n",
    "GMpercentagevolumechange= GMvolumechanges.pct_change(periods=1)\n",
    "stock_data['GM','%changevolume'] = GMpercentagevolumechange\n",
    "\n",
    "fordvolumechanges= stock_data[( 'F', 'Volume')]\n",
    "fordpercentagevolumechange= fordvolumechanges.pct_change(periods=1)\n",
    "stock_data['F','%changevolume'] = fordpercentagevolumechange\n",
    "\n",
    "shellvolumechanges= stock_data[( 'RDS-B', 'Volume')]\n",
    "shellpercentagevolumechange= shellvolumechanges.pct_change(periods=1)\n",
    "stock_data['RDS-B','%changevolume'] = shellpercentagevolumechange\n",
    "\n",
    "bpvolumechanges= stock_data[( 'BP', 'Volume')]\n",
    "bppercentagevolumechange= bpvolumechanges.pct_change(periods=1)\n",
    "stock_data['BP','%changevolume'] = bppercentagevolumechange\n",
    "\n",
    "stock_data = stock_data.sort_index(axis=1)"
   ]
  },
  {
   "cell_type": "code",
   "execution_count": null,
   "id": "6f5fe6c5",
   "metadata": {},
   "outputs": [],
   "source": [
    "# Calculating Cumulative Return of stock\n",
    "stock_data['TSLA','CumulativeRet'] = (1+ stock_data[( 'TSLA', '%changeprice')]).cumprod()\n",
    "\n",
    "stock_data['PCRFY','CumulativeRet'] = (1+ stock_data[( 'PCRFY', '%changeprice')]).cumprod()\n",
    "\n",
    "stock_data['GM','CumulativeRet'] = (1+ stock_data[( 'GM', '%changeprice')]).cumprod()\n",
    "\n",
    "stock_data['F','CumulativeRet'] = (1+ stock_data[( 'F', '%changeprice')]).cumprod()\n",
    "\n",
    "stock_data['RDS-B','CumulativeRet'] = (1+ stock_data[( 'RDS-B', '%changeprice')]).cumprod()\n",
    "\n",
    "stock_data['BP','CumulativeRet'] = (1+ stock_data[( 'BP', '%changeprice')]).cumprod()\n",
    "\n",
    "stock_data = stock_data.sort_index(axis=1)"
   ]
  },
  {
   "cell_type": "code",
   "execution_count": null,
   "id": "02ef13c5",
   "metadata": {},
   "outputs": [],
   "source": [
    "# Printing stock data\n",
    "stock_data"
   ]
  },
  {
   "cell_type": "markdown",
   "id": "02e12b34",
   "metadata": {},
   "source": [
    "## Step 3: Exploratory Analysis"
   ]
  },
  {
   "cell_type": "markdown",
   "id": "c63f345f",
   "metadata": {},
   "source": [
    "Let us look at the Adjusted Close price of Tesla and rest of the companies for the last 5 years."
   ]
  },
  {
   "cell_type": "code",
   "execution_count": null,
   "id": "495b3705",
   "metadata": {},
   "outputs": [],
   "source": [
    "# Plot the adjusted close price\n",
    "stock_data[('TSLA','Adj Close')].plot(figsize=(16, 10))\n",
    "\n",
    "# Define the label for the title of the figure\n",
    "plt.title(\"Adjusted Close Price of Tesla\", fontsize=16)\n",
    "\n",
    "# Define the labels for x-axis and y-axis\n",
    "plt.ylabel('Price', fontsize=14)\n",
    "plt.xlabel('Year', fontsize=14)\n",
    "\n",
    "# Plot the grid lines\n",
    "plt.grid(which=\"major\", color='k', linestyle='-.', linewidth=0.5)\n",
    "\n",
    "# Show the plot\n",
    "plt.show()"
   ]
  },
  {
   "cell_type": "code",
   "execution_count": null,
   "id": "6cfa7e0b",
   "metadata": {},
   "outputs": [],
   "source": [
    "# Getting adjusted close price\n",
    "AdjClose=data.iloc[:, stock_data.columns.get_level_values(1)=='Adj Close']\n",
    "\n",
    "AdjClose.plot(figsize=(16, 10))\n",
    "\n",
    "# Show the legend\n",
    "plt.legend()\n",
    "\n",
    "# Define the label for the title of the figure\n",
    "plt.title(\"Adjusted Close Price\", fontsize=16)\n",
    "\n",
    "# Define the labels for x-axis and y-axis\n",
    "plt.ylabel('Price', fontsize=14)\n",
    "plt.xlabel('Year', fontsize=14)\n",
    "\n",
    "# Plot the grid lines\n",
    "plt.grid(which=\"major\", color='k', linestyle='-.', linewidth=0.5)\n",
    "plt.show()"
   ]
  },
  {
   "cell_type": "markdown",
   "id": "0d701f6e",
   "metadata": {},
   "source": [
    "From the above graph it can be seen that the Adjusted Close price of Tesla was approximately in the same range as rest of the companies that we are comparing until early 2020. Then it started to rise significantly whereas share price of the rest of the companies remained more or less same. "
   ]
  },
  {
   "cell_type": "markdown",
   "id": "1a4995c2",
   "metadata": {},
   "source": [
    "###### Question 1: Does change in stock prices affect the volume of stock traded of Tesla? What is the relation between volume and close price of Tesla? "
   ]
  },
  {
   "cell_type": "markdown",
   "id": "03c28fee",
   "metadata": {},
   "source": [
    "I intend to find that does the change in price of Tesla share have any effect on the volume of shares traded. It is generally expected that more trading of shares will occur when there is a significant change in price as people will rush to take advantage of the price swing."
   ]
  },
  {
   "cell_type": "code",
   "execution_count": null,
   "id": "9ee6036f",
   "metadata": {},
   "outputs": [],
   "source": [
    "# Plot the adjusted close price\n",
    "stock_data[('TSLA','%changevolume')].plot(figsize=(16, 10))\n",
    "\n",
    "# Define the label for the title of the figure\n",
    "plt.title(\"Daily % change of Volume of Tesla shares traded\", fontsize=16)\n",
    "\n",
    "# Define the labels for x-axis and y-axis\n",
    "plt.ylabel('% change of Volume', fontsize=14)\n",
    "plt.xlabel('Year', fontsize=14)\n",
    "plt.ticklabel_format(useOffset=False, style='plain',axis='y')\n",
    "# Plot the grid lines\n",
    "plt.grid(which=\"major\", color='k', linestyle='-.', linewidth=0.5)\n",
    "\n",
    "# Show the plot\n",
    "plt.show()\n",
    "\n",
    "\n",
    "stock_data[('TSLA','%changeprice')].plot(figsize=(17,10))\n",
    "plt.suptitle('Daily % change of Tesla. stock price', fontsize=16, color='black')\n",
    "plt.ylabel('% change of share price', fontsize=14)\n",
    "plt.xlabel('Year', fontsize=14)\n",
    "plt.grid(which=\"major\", color='k', linestyle='-.', linewidth=0.5)\n",
    "\n",
    "plt.show() "
   ]
  },
  {
   "cell_type": "markdown",
   "id": "0163b8db",
   "metadata": {},
   "source": [
    "The y-axis of both graphs represents the percentage change in the value. This is needed because the daily volume of shares traded will be in the range of hundreds of thousands, and the daily price movement is normally a few dollars. We may compare the two datasets on a similar scale by converting to percentage change. There is no visible association between the number of shares exchanged and the daily price change, as seen in the above graph."
   ]
  },
  {
   "cell_type": "code",
   "execution_count": null,
   "id": "40a5b9ba",
   "metadata": {},
   "outputs": [],
   "source": [
    "# Scatter plot between the values\n",
    "plt.figure(figsize=(16,10))\n",
    "plt.scatter(stock_data[('TSLA','%changevolume')],stock_data[('TSLA','%changeprice')])\n",
    "plt.suptitle('Scatter plot between %change in price and volume traded of Tesla stock', fontsize=16, color='black')\n",
    "plt.ylabel('% change in price of stock', fontsize=14)\n",
    "plt.xlabel('% change in Volume Traded', fontsize=14)\n",
    "plt.grid(which=\"major\", color='k', linestyle='-.', linewidth=0.5)\n",
    "plt.ticklabel_format(useOffset=False, style='plain')"
   ]
  },
  {
   "cell_type": "markdown",
   "id": "a994fa54",
   "metadata": {},
   "source": [
    "Just from the above scatter plot, it doesn't look like there is much relationship between share price and volume traded of Tesla stock. "
   ]
  },
  {
   "cell_type": "code",
   "execution_count": null,
   "id": "a35ae07a",
   "metadata": {},
   "outputs": [],
   "source": [
    "# Linear regression model\n",
    "a= stock_data[('TSLA','%changevolume')]\n",
    "b= stock_data[('TSLA','%changeprice')]\n",
    "x=np.array(a[1:1258]).reshape((-1,1))\n",
    "y=b[1:1258]\n",
    "model = LinearRegression()\n",
    "model.fit(x, y)\n",
    "r_sq = model.score(x, y)\n",
    "print('coefficient of determination:', r_sq)"
   ]
  },
  {
   "cell_type": "markdown",
   "id": "e6782900",
   "metadata": {},
   "source": [
    "The very low value of coefficient of determination tells that there is no relation between the variables. With all the tests done we have reached the same conclusion that there is no relation between change in share price and volume traded of Tesla, which is quite surprising as we would expect that there would be more trading activity when there is a drastic change in price as people will try to benefit from the said change in price."
   ]
  },
  {
   "cell_type": "markdown",
   "id": "574ddfc6",
   "metadata": {},
   "source": [
    "###### Question 2: Does change in price of Tesla stock has any effect on its main battery supplier and competitors? What is the volatility and correlation between these stocks? "
   ]
  },
  {
   "cell_type": "markdown",
   "id": "b3389007",
   "metadata": {},
   "source": [
    "Market performance of one company can have some influence on the rest of the market. I intend to find the effect of Tesla share price have on its main battery supplier, Panasonic i.e., will increase in Tesla share price can have positive impact on share price of Panasonic. Also, I will look into the effect of Tesla share price on its competitors. The competitors that we will be looking in the vehicle manufacturing industry are Ford and GM. They are the biggest gasoline vehicle producer in the home country of Tesla. I also plan to find any relation between share price of petroleum companies (Royal Dutch Shell and BP) and Tesla. Since Tesla is an electric vehicle manufacture, better performance of the company may have negative impact on the share price of petroleum companies. I aim to find that this is the case."
   ]
  },
  {
   "cell_type": "code",
   "execution_count": null,
   "id": "bef498e0",
   "metadata": {},
   "outputs": [],
   "source": [
    "# Getting the percentage change of price\n",
    "percentagechange=data.iloc[:, stock_data.columns.get_level_values(1)=='%changeprice']\n",
    "\n",
    "percentagechange.plot(subplots = True,figsize=(16, 16))\n",
    "\n",
    "# Show the legend\n",
    "plt.legend()\n",
    "\n",
    "# Define the label for the title of the figure\n",
    "plt.suptitle(\"Daily Percentage change of stock price of all the companies\", fontsize=16)\n",
    "# Define the labels for x-axis and y-axis\n",
    "plt.ylabel('% change in Price', fontsize=14)\n",
    "plt.xlabel('Year', fontsize=14)\n",
    "\n",
    "# Plot the grid lines\n",
    "plt.grid(which=\"major\", color='k', linestyle='-.', linewidth=0.5)\n",
    "plt.show()"
   ]
  },
  {
   "cell_type": "markdown",
   "id": "48d87a67",
   "metadata": {},
   "source": [
    "From the above graph it can be seen that percentage change of share price of stock is not that much related to each other except for early 2020. There is huge spike in graph for each company. I think this can be attributed to the COVID-19 lockdown and its effect on the markets. "
   ]
  },
  {
   "cell_type": "code",
   "execution_count": null,
   "id": "3455e5c4",
   "metadata": {},
   "outputs": [],
   "source": [
    "#Plotting scatter matrix\n",
    "from pandas.plotting import scatter_matrix\n",
    "comparison=pd.concat([stock_data['TSLA','Open'],stock_data['PCRFY','Open'],stock_data['GM','Open'],stock_data['F','Open'],stock_data['RDS-B','Open'],stock_data['BP','Open']],axis=1)\n",
    "comparison.columns=['Tesla','Panasonic','GM','Ford','Shell','BP']\n",
    "scatter_matrix(comparison,figsize=(16,16),hist_kwds={'bins':50})"
   ]
  },
  {
   "cell_type": "markdown",
   "id": "2d59208f",
   "metadata": {},
   "source": [
    "From the above scatter matrix, it is clear that share price of Tesla have almost strong non-linear relationship with rest of the companies. The only strong linear relationship that can be found is between the share price of Ford and GM and also with Shell and BP."
   ]
  },
  {
   "cell_type": "code",
   "execution_count": null,
   "id": "4fc0200a",
   "metadata": {},
   "outputs": [],
   "source": [
    "# Checking the volatility of the stock\n",
    "stock_data['TSLA','%changeprice'].hist(bins=50,label='Tesla',alpha=0.5,figsize=(16,16))\n",
    "stock_data['PCRFY','%changeprice'].hist(bins=50,label='Panasonic',alpha=0.5)\n",
    "stock_data['GM','%changeprice'].hist(bins=50,label='GM',alpha=0.5)\n",
    "stock_data['F','%changeprice'].hist(bins=50,label='Ford',alpha=0.5)\n",
    "stock_data['RDS-B','%changeprice'].hist(bins=50,label='Shell',alpha=0.5)\n",
    "stock_data['BP','%changeprice'].hist(bins=50,label='BP',alpha=0.5)\n",
    "plt.legend()"
   ]
  },
  {
   "cell_type": "markdown",
   "id": "8175ab0b",
   "metadata": {},
   "source": [
    "The curve corresponding to Tesla is more wider than rest. Hence share price of Tesla is more volatile than rest of the companies."
   ]
  },
  {
   "cell_type": "code",
   "execution_count": null,
   "id": "25c4ae28",
   "metadata": {},
   "outputs": [],
   "source": [
    "# getting kde curve\n",
    "stock_data['TSLA','%changeprice'].plot(kind='kde',label='Tesla',alpha=0.5,figsize=(16,12))\n",
    "stock_data['PCRFY','%changeprice'].plot(kind='kde',label='Panasonic',alpha=0.5)\n",
    "stock_data['GM','%changeprice'].plot(kind='kde',label='GM',alpha=0.5)\n",
    "stock_data['F','%changeprice'].plot(kind='kde',label='Ford',alpha=0.5)\n",
    "stock_data['RDS-B','%changeprice'].plot(kind='kde',label='Shell',alpha=0.5)\n",
    "stock_data['BP','%changeprice'].plot(kind='kde',label='BP',alpha=0.5)\n",
    "plt.grid(which=\"major\", color='k', linestyle='-.', linewidth=0.5)\n",
    "plt.legend()"
   ]
  },
  {
   "cell_type": "markdown",
   "id": "5d38e0b0",
   "metadata": {},
   "source": [
    "From the above graph, it can be seen that Tesla has wider curve. Hence, we can definitely confirm that Tesla stock is most volatile. "
   ]
  },
  {
   "cell_type": "code",
   "execution_count": null,
   "id": "bc92c25a",
   "metadata": {},
   "outputs": [],
   "source": [
    "# Getting boxplots\n",
    "returncomparison=pd.concat([stock_data['TSLA','%changeprice'],stock_data['PCRFY','%changeprice'],stock_data['GM','%changeprice'],stock_data['F','%changeprice'],stock_data['RDS-B','%changeprice'],stock_data['BP','%changeprice']],axis=1)\n",
    "returncomparison.columns=['Tesla','Panasonic','GM','Ford','Shell','BP']\n",
    "returncomparison.plot(kind='box',figsize=(16,16))"
   ]
  },
  {
   "cell_type": "markdown",
   "id": "eb042ec7",
   "metadata": {},
   "source": [
    "From above box plot, it is clear that Percentage change in share price of Tesla is more spread out than rest of the companies."
   ]
  },
  {
   "cell_type": "code",
   "execution_count": null,
   "id": "472580d7",
   "metadata": {},
   "outputs": [],
   "source": [
    "# Finding the correlation between the daily returns of the company\n",
    "scatter_matrix(returncomparison,figsize=(16,16),hist_kwds={'bins':50},alpha=0.25)"
   ]
  },
  {
   "cell_type": "markdown",
   "id": "437f8556",
   "metadata": {},
   "source": [
    "From the scatter matrix, it can be seen that there is no correlation between the daily returns of Tesla and rest of the companies. Just like before the only relation that can be deduced is the positive relation between the daily returns of Ford and GM and also Shell and BP."
   ]
  }
 ],
 "metadata": {
  "kernelspec": {
   "display_name": "Python 3",
   "language": "python",
   "name": "python3"
  },
  "language_info": {
   "codemirror_mode": {
    "name": "ipython",
    "version": 3
   },
   "file_extension": ".py",
   "mimetype": "text/x-python",
   "name": "python",
   "nbconvert_exporter": "python",
   "pygments_lexer": "ipython3",
   "version": "3.8.8"
  }
 },
 "nbformat": 4,
 "nbformat_minor": 5
}
