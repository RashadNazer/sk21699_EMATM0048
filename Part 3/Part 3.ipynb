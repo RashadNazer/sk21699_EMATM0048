{
 "cells": [
  {
   "cell_type": "markdown",
   "id": "a193dd68",
   "metadata": {},
   "source": [
    "# Part 3: Data Analytics"
   ]
  },
  {
   "cell_type": "markdown",
   "id": "4db02338",
   "metadata": {},
   "source": [
    "## Step 1: Selecting real-world dataset"
   ]
  },
  {
   "cell_type": "markdown",
   "id": "a7430026",
   "metadata": {},
   "source": [
    "The dataset that will be used today are the stock market data of TESLA and some companies related to it. It is extracted using yfinance API. yfinance is an open source library developed by Ran Aroussi as a means to access the financial data available on Yahoo Finance[1]. Out of the many variables extracted, we will be focusing on Closing Price and Volume of shares traded. "
   ]
  },
  {
   "cell_type": "code",
   "execution_count": null,
   "id": "884648cb",
   "metadata": {},
   "outputs": [],
   "source": [
    "#installing needed libraries\n",
    "pip install yfinance"
   ]
  },
  {
   "cell_type": "code",
   "execution_count": null,
   "id": "565c9dbc",
   "metadata": {},
   "outputs": [],
   "source": [
    "pip install keras"
   ]
  },
  {
   "cell_type": "code",
   "execution_count": null,
   "id": "a4540dae",
   "metadata": {},
   "outputs": [],
   "source": [
    "pip install tensorflow"
   ]
  },
  {
   "cell_type": "code",
   "execution_count": null,
   "id": "7343ba36",
   "metadata": {},
   "outputs": [],
   "source": [
    "# Importing packages\n",
    "import yfinance as yf\n",
    "import matplotlib.pyplot as plt\n",
    "import numpy as np\n",
    "import pandas as pd\n",
    "import math\n",
    "from sklearn.preprocessing import MinMaxScaler\n",
    "from sklearn.linear_model import LinearRegression\n",
    "from keras.models import Sequential,load_model\n",
    "from keras.layers import Dense, LSTM, Dropout"
   ]
  },
  {
   "cell_type": "markdown",
   "id": "8419ff88",
   "metadata": {},
   "source": [
    "The stock market data is extracted by creating a ticker object for the particular stocks we need data for. The primary company I am interested is TESLA (TSLA). They are growing at a tremendous pace and is currently the biggest electric vehicle manufacturer in the world [2]. I am also interested to know the effect of TSLA share price have on its main battery supplier, Panasonic (PCRFY) [3]. I also intend to find the effect of TSLA share price on its competitor in the field of vehicle manufacturing (Ford(F) and General Motors(GM)) and energy (Royal Dutch Shell(RDS-B) and BP(BP)). We will be extracting data of last 5 years."
   ]
  },
  {
   "cell_type": "code",
   "execution_count": null,
   "id": "c40aaa4f",
   "metadata": {},
   "outputs": [],
   "source": [
    "# Setting the start and end date\n",
    "start_date = '2016-11-30'\n",
    "end_date = '2021-12-01'\n",
    "\n",
    "# Set the ticker\n",
    "ticker = 'TSLA','PCRFY','GM','F','RDS-B','BP'\n",
    "\n",
    "# Get the data\n",
    "data = yf.download(ticker, start_date, end_date,group_by='tickers')\n",
    "\n",
    "# Print data\n",
    "data"
   ]
  },
  {
   "cell_type": "code",
   "execution_count": null,
   "id": "53b477d8",
   "metadata": {},
   "outputs": [],
   "source": [
    "# Saving the data into a csv file\n",
    "data.to_csv('data.csv')"
   ]
  },
  {
   "cell_type": "markdown",
   "id": "1a7cd6f3",
   "metadata": {},
   "source": [
    "## Step 2: Data preparation and Cleaning"
   ]
  },
  {
   "cell_type": "markdown",
   "id": "3924830a",
   "metadata": {},
   "source": [
    "First step is we will be checking there are any null values in the dataset. We will also create 3 additional columns for the variables Percentage change of Price(%changeprice), Percentage change of volume(%changevolume) and Cumulative Return of the stock(CumulativeRet)."
   ]
  },
  {
   "cell_type": "code",
   "execution_count": null,
   "id": "2faac572",
   "metadata": {},
   "outputs": [],
   "source": [
    "# Loading the dataset into a data fram\n",
    "stock_data = pd.read_csv('data.csv', header=[0, 1], index_col=0)\n",
    "# Print dataset\n",
    "stock_data"
   ]
  },
  {
   "cell_type": "code",
   "execution_count": null,
   "id": "ff6d0e76",
   "metadata": {},
   "outputs": [],
   "source": [
    "# Print the shape of dataset\n",
    "stock_data.shape"
   ]
  },
  {
   "cell_type": "code",
   "execution_count": null,
   "id": "288d9edb",
   "metadata": {},
   "outputs": [],
   "source": [
    "# Checking no. of null values\n",
    "stock_data.isnull().sum()"
   ]
  },
  {
   "cell_type": "code",
   "execution_count": null,
   "id": "a68b734f",
   "metadata": {},
   "outputs": [],
   "source": [
    "# Checking any numeric data is not string\n",
    "stock_data.dtypes.value_counts()"
   ]
  },
  {
   "cell_type": "markdown",
   "id": "d32c7059",
   "metadata": {},
   "source": [
    "###### Pre-Processing Completed"
   ]
  },
  {
   "cell_type": "markdown",
   "id": "f757ca4b",
   "metadata": {},
   "source": [
    "We can see that there is no Null value in the data, and also all the stock values are not strings either. Both of these are very good indicators that all values are present."
   ]
  },
  {
   "cell_type": "markdown",
   "id": "eb581623",
   "metadata": {},
   "source": [
    "###### Creation of additional columns"
   ]
  },
  {
   "cell_type": "code",
   "execution_count": null,
   "id": "be6f7021",
   "metadata": {},
   "outputs": [],
   "source": [
    "# Calculating daily change of price\n",
    "tesladailychanges= stock_data[( 'TSLA', 'Adj Close')]\n",
    "teslapercentagedailychange= tesladailychanges.pct_change(periods=1)\n",
    "stock_data['TSLA','%changeprice'] = teslapercentagedailychange\n",
    "\n",
    "panasonicdailychanges= stock_data[( 'PCRFY', 'Adj Close')]\n",
    "panasonicpercentagedailychange= panasonicdailychanges.pct_change(periods=1)\n",
    "stock_data['PCRFY','%changeprice'] = panasonicpercentagedailychange\n",
    "\n",
    "GMdailychanges= stock_data[( 'GM', 'Adj Close')]\n",
    "GMpercentagedailychange= GMdailychanges.pct_change(periods=1)\n",
    "stock_data['GM','%changeprice'] = GMpercentagedailychange\n",
    "\n",
    "forddailychanges= stock_data[( 'F', 'Adj Close')]\n",
    "fordpercentagedailychange= forddailychanges.pct_change(periods=1)\n",
    "stock_data['F','%changeprice'] = fordpercentagedailychange\n",
    "\n",
    "shelldailychanges= stock_data[( 'RDS-B', 'Adj Close')]\n",
    "shellpercentagedailychange= shelldailychanges.pct_change(periods=1)\n",
    "stock_data['RDS-B','%changeprice'] = shellpercentagedailychange\n",
    "\n",
    "bpdailychanges= stock_data[( 'BP', 'Adj Close')]\n",
    "bppercentagedailychange= bpdailychanges.pct_change(periods=1)\n",
    "stock_data['BP','%changeprice'] = bppercentagedailychange\n",
    "\n",
    "stock_data = stock_data.sort_index(axis=1)"
   ]
  },
  {
   "cell_type": "code",
   "execution_count": null,
   "id": "a6b1e49a",
   "metadata": {},
   "outputs": [],
   "source": [
    "# Calculating daily change of volume traded\n",
    "teslavolumechanges= stock_data[( 'TSLA', 'Volume')]\n",
    "teslapercentagevolumechange= teslavolumechanges.pct_change(periods=1)\n",
    "stock_data['TSLA','%changevolume'] = teslapercentagevolumechange\n",
    "\n",
    "panasonicvolumechanges= stock_data[( 'PCRFY', 'Volume')]\n",
    "panasonicpercentagevolumechange= panasonicvolumechanges.pct_change(periods=1)\n",
    "stock_data['PCRFY','%changevolume'] = panasonicpercentagevolumechange\n",
    "\n",
    "GMvolumechanges= stock_data[( 'GM', 'Volume')]\n",
    "GMpercentagevolumechange= GMvolumechanges.pct_change(periods=1)\n",
    "stock_data['GM','%changevolume'] = GMpercentagevolumechange\n",
    "\n",
    "fordvolumechanges= stock_data[( 'F', 'Volume')]\n",
    "fordpercentagevolumechange= fordvolumechanges.pct_change(periods=1)\n",
    "stock_data['F','%changevolume'] = fordpercentagevolumechange\n",
    "\n",
    "shellvolumechanges= stock_data[( 'RDS-B', 'Volume')]\n",
    "shellpercentagevolumechange= shellvolumechanges.pct_change(periods=1)\n",
    "stock_data['RDS-B','%changevolume'] = shellpercentagevolumechange\n",
    "\n",
    "bpvolumechanges= stock_data[( 'BP', 'Volume')]\n",
    "bppercentagevolumechange= bpvolumechanges.pct_change(periods=1)\n",
    "stock_data['BP','%changevolume'] = bppercentagevolumechange\n",
    "\n",
    "stock_data = stock_data.sort_index(axis=1)"
   ]
  },
  {
   "cell_type": "code",
   "execution_count": null,
   "id": "889219e1",
   "metadata": {},
   "outputs": [],
   "source": [
    "# Calculating Cumulative Return of stock\n",
    "stock_data['TSLA','CumulativeRet'] = (1+ stock_data[( 'TSLA', '%changeprice')]).cumprod()\n",
    "\n",
    "stock_data['PCRFY','CumulativeRet'] = (1+ stock_data[( 'PCRFY', '%changeprice')]).cumprod()\n",
    "\n",
    "stock_data['GM','CumulativeRet'] = (1+ stock_data[( 'GM', '%changeprice')]).cumprod()\n",
    "\n",
    "stock_data['F','CumulativeRet'] = (1+ stock_data[( 'F', '%changeprice')]).cumprod()\n",
    "\n",
    "stock_data['RDS-B','CumulativeRet'] = (1+ stock_data[( 'RDS-B', '%changeprice')]).cumprod()\n",
    "\n",
    "stock_data['BP','CumulativeRet'] = (1+ stock_data[( 'BP', '%changeprice')]).cumprod()\n",
    "\n",
    "stock_data = stock_data.sort_index(axis=1)"
   ]
  },
  {
   "cell_type": "code",
   "execution_count": null,
   "id": "568faa7c",
   "metadata": {},
   "outputs": [],
   "source": [
    "# Printing stock data\n",
    "stock_data"
   ]
  },
  {
   "cell_type": "code",
   "execution_count": null,
   "id": "d5b92985",
   "metadata": {},
   "outputs": [],
   "source": []
  }
 ],
 "metadata": {
  "kernelspec": {
   "display_name": "Python 3",
   "language": "python",
   "name": "python3"
  },
  "language_info": {
   "codemirror_mode": {
    "name": "ipython",
    "version": 3
   },
   "file_extension": ".py",
   "mimetype": "text/x-python",
   "name": "python",
   "nbconvert_exporter": "python",
   "pygments_lexer": "ipython3",
   "version": "3.8.8"
  }
 },
 "nbformat": 4,
 "nbformat_minor": 5
}
