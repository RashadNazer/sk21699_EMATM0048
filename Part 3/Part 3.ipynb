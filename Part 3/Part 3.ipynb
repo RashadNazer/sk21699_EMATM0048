{
 "cells": [
  {
   "cell_type": "markdown",
   "id": "b7e608a6",
   "metadata": {},
   "source": [
    "# Part 3: Data Analytics"
   ]
  },
  {
   "cell_type": "markdown",
   "id": "cca4bcd6",
   "metadata": {},
   "source": [
    "## Step 1: Selecting real-world dataset"
   ]
  },
  {
   "cell_type": "markdown",
   "id": "4a32e8a7",
   "metadata": {},
   "source": [
    "The dataset that will be used today are the stock market data of TESLA and some companies related to it. It is extracted using yfinance API. yfinance is an open source library developed by Ran Aroussi as a means to access the financial data available on Yahoo Finance[1]. Out of the many variables extracted, we will be focusing on Closing Price and Volume of shares traded. "
   ]
  },
  {
   "cell_type": "code",
   "execution_count": null,
   "id": "c9669f2b",
   "metadata": {},
   "outputs": [],
   "source": [
    "#installing needed libraries\n",
    "pip install yfinance"
   ]
  },
  {
   "cell_type": "code",
   "execution_count": null,
   "id": "54189167",
   "metadata": {},
   "outputs": [],
   "source": [
    "pip install keras"
   ]
  },
  {
   "cell_type": "code",
   "execution_count": null,
   "id": "ff9b91f8",
   "metadata": {},
   "outputs": [],
   "source": [
    "pip install tensorflow"
   ]
  },
  {
   "cell_type": "code",
   "execution_count": null,
   "id": "4f5155df",
   "metadata": {},
   "outputs": [],
   "source": [
    "# Importing packages\n",
    "import yfinance as yf\n",
    "import matplotlib.pyplot as plt\n",
    "import numpy as np\n",
    "import pandas as pd\n",
    "import math\n",
    "from sklearn.preprocessing import MinMaxScaler\n",
    "from sklearn.linear_model import LinearRegression\n",
    "from keras.models import Sequential,load_model\n",
    "from keras.layers import Dense, LSTM, Dropout"
   ]
  },
  {
   "cell_type": "markdown",
   "id": "f8f2b09e",
   "metadata": {},
   "source": [
    "The stock market data is extracted by creating a ticker object for the particular stocks we need data for. The primary company I am interested is TESLA (TSLA). They are growing at a tremendous pace and is currently the biggest electric vehicle manufacturer in the world [2]. I am also interested to know the effect of TSLA share price have on its main battery supplier, Panasonic (PCRFY) [3]. I also intend to find the effect of TSLA share price on its competitor in the field of vehicle manufacturing (Ford(F) and General Motors(GM)) and energy (Royal Dutch Shell(RDS-B) and BP(BP)). We will be extracting data of last 5 years."
   ]
  },
  {
   "cell_type": "code",
   "execution_count": null,
   "id": "ce94a08f",
   "metadata": {},
   "outputs": [],
   "source": [
    "# Setting the start and end date\n",
    "start_date = '2016-11-30'\n",
    "end_date = '2021-12-01'\n",
    "\n",
    "# Set the ticker\n",
    "ticker = 'TSLA','PCRFY','GM','F','RDS-B','BP'\n",
    "\n",
    "# Get the data\n",
    "data = yf.download(ticker, start_date, end_date,group_by='tickers')\n",
    "\n",
    "# Print data\n",
    "data"
   ]
  },
  {
   "cell_type": "code",
   "execution_count": null,
   "id": "303ae99c",
   "metadata": {},
   "outputs": [],
   "source": [
    "# Saving the data into a csv file\n",
    "data.to_csv('data.csv')"
   ]
  },
  {
   "cell_type": "markdown",
   "id": "46d6f5ed",
   "metadata": {},
   "source": [
    "## Step 2: Data preparation and Cleaning"
   ]
  },
  {
   "cell_type": "markdown",
   "id": "7207c1cc",
   "metadata": {},
   "source": [
    "First step is we will be checking there are any null values in the dataset. We will also create 3 additional columns for the variables Percentage change of Price(%changeprice), Percentage change of volume(%changevolume) and Cumulative Return of the stock(CumulativeRet)."
   ]
  },
  {
   "cell_type": "code",
   "execution_count": null,
   "id": "3c450a3e",
   "metadata": {},
   "outputs": [],
   "source": [
    "# Loading the dataset into a data fram\n",
    "stock_data = pd.read_csv('data.csv', header=[0, 1], index_col=0)\n",
    "# Print dataset\n",
    "stock_data"
   ]
  },
  {
   "cell_type": "code",
   "execution_count": null,
   "id": "375de011",
   "metadata": {},
   "outputs": [],
   "source": [
    "# Print the shape of dataset\n",
    "stock_data.shape"
   ]
  },
  {
   "cell_type": "code",
   "execution_count": null,
   "id": "1e76f947",
   "metadata": {},
   "outputs": [],
   "source": [
    "# Checking no. of null values\n",
    "stock_data.isnull().sum()"
   ]
  },
  {
   "cell_type": "code",
   "execution_count": null,
   "id": "c64a6387",
   "metadata": {},
   "outputs": [],
   "source": [
    "# Checking any numeric data is not string\n",
    "stock_data.dtypes.value_counts()"
   ]
  },
  {
   "cell_type": "markdown",
   "id": "32d39837",
   "metadata": {},
   "source": [
    "###### Pre-Processing Completed"
   ]
  },
  {
   "cell_type": "markdown",
   "id": "769eb780",
   "metadata": {},
   "source": [
    "We can see that there is no Null value in the data, and also all the stock values are not strings either. Both of these are very good indicators that all values are present."
   ]
  },
  {
   "cell_type": "markdown",
   "id": "5e3aca49",
   "metadata": {},
   "source": [
    "###### Creation of additional columns"
   ]
  },
  {
   "cell_type": "code",
   "execution_count": null,
   "id": "0c154b72",
   "metadata": {},
   "outputs": [],
   "source": [
    "# Calculating daily change of price\n",
    "tesladailychanges= stock_data[( 'TSLA', 'Adj Close')]\n",
    "teslapercentagedailychange= tesladailychanges.pct_change(periods=1)\n",
    "stock_data['TSLA','%changeprice'] = teslapercentagedailychange\n",
    "\n",
    "panasonicdailychanges= stock_data[( 'PCRFY', 'Adj Close')]\n",
    "panasonicpercentagedailychange= panasonicdailychanges.pct_change(periods=1)\n",
    "stock_data['PCRFY','%changeprice'] = panasonicpercentagedailychange\n",
    "\n",
    "GMdailychanges= stock_data[( 'GM', 'Adj Close')]\n",
    "GMpercentagedailychange= GMdailychanges.pct_change(periods=1)\n",
    "stock_data['GM','%changeprice'] = GMpercentagedailychange\n",
    "\n",
    "forddailychanges= stock_data[( 'F', 'Adj Close')]\n",
    "fordpercentagedailychange= forddailychanges.pct_change(periods=1)\n",
    "stock_data['F','%changeprice'] = fordpercentagedailychange\n",
    "\n",
    "shelldailychanges= stock_data[( 'RDS-B', 'Adj Close')]\n",
    "shellpercentagedailychange= shelldailychanges.pct_change(periods=1)\n",
    "stock_data['RDS-B','%changeprice'] = shellpercentagedailychange\n",
    "\n",
    "bpdailychanges= stock_data[( 'BP', 'Adj Close')]\n",
    "bppercentagedailychange= bpdailychanges.pct_change(periods=1)\n",
    "stock_data['BP','%changeprice'] = bppercentagedailychange\n",
    "\n",
    "stock_data = stock_data.sort_index(axis=1)"
   ]
  },
  {
   "cell_type": "code",
   "execution_count": null,
   "id": "897a043b",
   "metadata": {},
   "outputs": [],
   "source": [
    "# Calculating daily change of volume traded\n",
    "teslavolumechanges= stock_data[( 'TSLA', 'Volume')]\n",
    "teslapercentagevolumechange= teslavolumechanges.pct_change(periods=1)\n",
    "stock_data['TSLA','%changevolume'] = teslapercentagevolumechange\n",
    "\n",
    "panasonicvolumechanges= stock_data[( 'PCRFY', 'Volume')]\n",
    "panasonicpercentagevolumechange= panasonicvolumechanges.pct_change(periods=1)\n",
    "stock_data['PCRFY','%changevolume'] = panasonicpercentagevolumechange\n",
    "\n",
    "GMvolumechanges= stock_data[( 'GM', 'Volume')]\n",
    "GMpercentagevolumechange= GMvolumechanges.pct_change(periods=1)\n",
    "stock_data['GM','%changevolume'] = GMpercentagevolumechange\n",
    "\n",
    "fordvolumechanges= stock_data[( 'F', 'Volume')]\n",
    "fordpercentagevolumechange= fordvolumechanges.pct_change(periods=1)\n",
    "stock_data['F','%changevolume'] = fordpercentagevolumechange\n",
    "\n",
    "shellvolumechanges= stock_data[( 'RDS-B', 'Volume')]\n",
    "shellpercentagevolumechange= shellvolumechanges.pct_change(periods=1)\n",
    "stock_data['RDS-B','%changevolume'] = shellpercentagevolumechange\n",
    "\n",
    "bpvolumechanges= stock_data[( 'BP', 'Volume')]\n",
    "bppercentagevolumechange= bpvolumechanges.pct_change(periods=1)\n",
    "stock_data['BP','%changevolume'] = bppercentagevolumechange\n",
    "\n",
    "stock_data = stock_data.sort_index(axis=1)"
   ]
  },
  {
   "cell_type": "code",
   "execution_count": null,
   "id": "715833e2",
   "metadata": {},
   "outputs": [],
   "source": [
    "# Calculating Cumulative Return of stock\n",
    "stock_data['TSLA','CumulativeRet'] = (1+ stock_data[( 'TSLA', '%changeprice')]).cumprod()\n",
    "\n",
    "stock_data['PCRFY','CumulativeRet'] = (1+ stock_data[( 'PCRFY', '%changeprice')]).cumprod()\n",
    "\n",
    "stock_data['GM','CumulativeRet'] = (1+ stock_data[( 'GM', '%changeprice')]).cumprod()\n",
    "\n",
    "stock_data['F','CumulativeRet'] = (1+ stock_data[( 'F', '%changeprice')]).cumprod()\n",
    "\n",
    "stock_data['RDS-B','CumulativeRet'] = (1+ stock_data[( 'RDS-B', '%changeprice')]).cumprod()\n",
    "\n",
    "stock_data['BP','CumulativeRet'] = (1+ stock_data[( 'BP', '%changeprice')]).cumprod()\n",
    "\n",
    "stock_data = stock_data.sort_index(axis=1)"
   ]
  },
  {
   "cell_type": "code",
   "execution_count": null,
   "id": "db2149b3",
   "metadata": {},
   "outputs": [],
   "source": [
    "# Printing stock data\n",
    "stock_data"
   ]
  },
  {
   "cell_type": "markdown",
   "id": "dc940347",
   "metadata": {},
   "source": [
    "## Step 3: Exploratory Analysis"
   ]
  },
  {
   "cell_type": "markdown",
   "id": "5c2f2b8e",
   "metadata": {},
   "source": [
    "Let us look at the Adjusted Close price of Tesla and rest of the companies for the last 5 years."
   ]
  },
  {
   "cell_type": "code",
   "execution_count": null,
   "id": "87f1822b",
   "metadata": {},
   "outputs": [],
   "source": [
    "# Plot the adjusted close price\n",
    "stock_data[('TSLA','Adj Close')].plot(figsize=(16, 10))\n",
    "\n",
    "# Define the label for the title of the figure\n",
    "plt.title(\"Adjusted Close Price of Tesla\", fontsize=16)\n",
    "\n",
    "# Define the labels for x-axis and y-axis\n",
    "plt.ylabel('Price', fontsize=14)\n",
    "plt.xlabel('Year', fontsize=14)\n",
    "\n",
    "# Plot the grid lines\n",
    "plt.grid(which=\"major\", color='k', linestyle='-.', linewidth=0.5)\n",
    "\n",
    "# Show the plot\n",
    "plt.show()"
   ]
  },
  {
   "cell_type": "code",
   "execution_count": null,
   "id": "580b3a32",
   "metadata": {},
   "outputs": [],
   "source": [
    "# Getting adjusted close price\n",
    "AdjClose=data.iloc[:, stock_data.columns.get_level_values(1)=='Adj Close']\n",
    "\n",
    "AdjClose.plot(figsize=(16, 10))\n",
    "\n",
    "# Show the legend\n",
    "plt.legend()\n",
    "\n",
    "# Define the label for the title of the figure\n",
    "plt.title(\"Adjusted Close Price\", fontsize=16)\n",
    "\n",
    "# Define the labels for x-axis and y-axis\n",
    "plt.ylabel('Price', fontsize=14)\n",
    "plt.xlabel('Year', fontsize=14)\n",
    "\n",
    "# Plot the grid lines\n",
    "plt.grid(which=\"major\", color='k', linestyle='-.', linewidth=0.5)\n",
    "plt.show()"
   ]
  },
  {
   "cell_type": "markdown",
   "id": "c87de6a5",
   "metadata": {},
   "source": [
    "From the above graph it can be seen that the Adjusted Close price of Tesla was approximately in the same range as rest of the companies that we are comparing until early 2020. Then it started to rise significantly whereas share price of the rest of the companies remained more or less same. "
   ]
  },
  {
   "cell_type": "markdown",
   "id": "30a1603b",
   "metadata": {},
   "source": [
    "###### Question 1: Does change in stock prices affect the volume of stock traded of Tesla? What is the relation between volume and close price of Tesla? "
   ]
  },
  {
   "cell_type": "markdown",
   "id": "40b9fb31",
   "metadata": {},
   "source": [
    "I intend to find that does the change in price of Tesla share have any effect on the volume of shares traded. It is generally expected that more trading of shares will occur when there is a significant change in price as people will rush to take advantage of the price swing."
   ]
  },
  {
   "cell_type": "code",
   "execution_count": null,
   "id": "8d8fae59",
   "metadata": {},
   "outputs": [],
   "source": [
    "# Plot the adjusted close price\n",
    "stock_data[('TSLA','%changevolume')].plot(figsize=(16, 10))\n",
    "\n",
    "# Define the label for the title of the figure\n",
    "plt.title(\"Daily % change of Volume of Tesla shares traded\", fontsize=16)\n",
    "\n",
    "# Define the labels for x-axis and y-axis\n",
    "plt.ylabel('% change of Volume', fontsize=14)\n",
    "plt.xlabel('Year', fontsize=14)\n",
    "plt.ticklabel_format(useOffset=False, style='plain',axis='y')\n",
    "# Plot the grid lines\n",
    "plt.grid(which=\"major\", color='k', linestyle='-.', linewidth=0.5)\n",
    "\n",
    "# Show the plot\n",
    "plt.show()\n",
    "\n",
    "\n",
    "stock_data[('TSLA','%changeprice')].plot(figsize=(17,10))\n",
    "plt.suptitle('Daily % change of Tesla. stock price', fontsize=16, color='black')\n",
    "plt.ylabel('% change of share price', fontsize=14)\n",
    "plt.xlabel('Year', fontsize=14)\n",
    "plt.grid(which=\"major\", color='k', linestyle='-.', linewidth=0.5)\n",
    "\n",
    "plt.show() "
   ]
  },
  {
   "cell_type": "markdown",
   "id": "bb2daa83",
   "metadata": {},
   "source": [
    "The y-axis of both graphs represents the percentage change in the value. This is needed because the daily volume of shares traded will be in the range of hundreds of thousands, and the daily price movement is normally a few dollars. We may compare the two datasets on a similar scale by converting to percentage change. There is no visible association between the number of shares exchanged and the daily price change, as seen in the above graph."
   ]
  },
  {
   "cell_type": "code",
   "execution_count": null,
   "id": "d508f0d7",
   "metadata": {},
   "outputs": [],
   "source": [
    "# Scatter plot between the values\n",
    "plt.figure(figsize=(16,10))\n",
    "plt.scatter(stock_data[('TSLA','%changevolume')],stock_data[('TSLA','%changeprice')])\n",
    "plt.suptitle('Scatter plot between %change in price and volume traded of Tesla stock', fontsize=16, color='black')\n",
    "plt.ylabel('% change in price of stock', fontsize=14)\n",
    "plt.xlabel('% change in Volume Traded', fontsize=14)\n",
    "plt.grid(which=\"major\", color='k', linestyle='-.', linewidth=0.5)\n",
    "plt.ticklabel_format(useOffset=False, style='plain')"
   ]
  },
  {
   "cell_type": "markdown",
   "id": "89727906",
   "metadata": {},
   "source": [
    "Just from the above scatter plot, it doesn't look like there is much relationship between share price and volume traded of Tesla stock. "
   ]
  },
  {
   "cell_type": "code",
   "execution_count": null,
   "id": "b29267bc",
   "metadata": {},
   "outputs": [],
   "source": [
    "# Linear regression model\n",
    "a= stock_data[('TSLA','%changevolume')]\n",
    "b= stock_data[('TSLA','%changeprice')]\n",
    "x=np.array(a[1:1258]).reshape((-1,1))\n",
    "y=b[1:1258]\n",
    "model = LinearRegression()\n",
    "model.fit(x, y)\n",
    "r_sq = model.score(x, y)\n",
    "print('coefficient of determination:', r_sq)"
   ]
  },
  {
   "cell_type": "markdown",
   "id": "1ab09af8",
   "metadata": {},
   "source": [
    "The very low value of coefficient of determination tells that there is no relation between the variables. With all the tests done we have reached the same conclusion that there is no relation between change in share price and volume traded of Tesla, which is quite surprising as we would expect that there would be more trading activity when there is a drastic change in price as people will try to benefit from the said change in price."
   ]
  }
 ],
 "metadata": {
  "kernelspec": {
   "display_name": "Python 3",
   "language": "python",
   "name": "python3"
  },
  "language_info": {
   "codemirror_mode": {
    "name": "ipython",
    "version": 3
   },
   "file_extension": ".py",
   "mimetype": "text/x-python",
   "name": "python",
   "nbconvert_exporter": "python",
   "pygments_lexer": "ipython3",
   "version": "3.8.8"
  }
 },
 "nbformat": 4,
 "nbformat_minor": 5
}
